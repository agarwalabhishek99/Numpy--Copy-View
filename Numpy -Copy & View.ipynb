{
 "cells": [
  {
   "cell_type": "code",
   "execution_count": 2,
   "metadata": {},
   "outputs": [
    {
     "name": "stdout",
     "output_type": "stream",
     "text": [
      "[10 20  3  4  5]\n",
      "[1 2 3 4 5]\n"
     ]
    }
   ],
   "source": [
    "import numpy as np\n",
    "\n",
    "i = np.array([1, 2, 3, 4, 5])\n",
    "j = i.copy()\n",
    "\n",
    "i[0] = 10\n",
    "i[1] = 20\n",
    "\n",
    "print(i)\n",
    "print(j)"
   ]
  },
  {
   "cell_type": "code",
   "execution_count": 4,
   "metadata": {},
   "outputs": [
    {
     "name": "stdout",
     "output_type": "stream",
     "text": [
      "[10 20  3  4  5]\n",
      "[10 20  3  4  5]\n"
     ]
    }
   ],
   "source": [
    "i = np.array([1, 2, 3, 4, 5])\n",
    "\n",
    "j = i.view() \n",
    "\n",
    "i[0] = 10\n",
    "i[1] = 20\n",
    "\n",
    "print(i)\n",
    "print(j)"
   ]
  },
  {
   "cell_type": "code",
   "execution_count": 6,
   "metadata": {},
   "outputs": [
    {
     "name": "stdout",
     "output_type": "stream",
     "text": [
      "[10 20  3  4  5]\n",
      "[10 20  3  4  5]\n",
      "\n",
      "None\n",
      "[10 20  3  4  5]\n"
     ]
    }
   ],
   "source": [
    " i = np.array([1, 2, 3, 4, 5])\n",
    "\n",
    " j = i.view() # j = view data\n",
    "\n",
    "j[0] = 10\n",
    "j[1] = 20\n",
    "\n",
    "print(i)\n",
    "print(j)\n",
    "\n",
    "print()\n",
    "\n",
    "print(i.base)\n",
    "print(j.base)"
   ]
  },
  {
   "cell_type": "code",
   "execution_count": null,
   "metadata": {},
   "outputs": [],
   "source": []
  }
 ],
 "metadata": {
  "kernelspec": {
   "display_name": "Python 3",
   "language": "python",
   "name": "python3"
  },
  "language_info": {
   "codemirror_mode": {
    "name": "ipython",
    "version": 3
   },
   "file_extension": ".py",
   "mimetype": "text/x-python",
   "name": "python",
   "nbconvert_exporter": "python",
   "pygments_lexer": "ipython3",
   "version": "3.8.5"
  }
 },
 "nbformat": 4,
 "nbformat_minor": 4
}
